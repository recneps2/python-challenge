{
 "cells": [
  {
   "cell_type": "code",
   "execution_count": 84,
   "metadata": {},
   "outputs": [],
   "source": [
    "# Dependencies\n",
    "import pandas as pd"
   ]
  },
  {
   "cell_type": "code",
   "execution_count": 94,
   "metadata": {},
   "outputs": [],
   "source": [
    "# Save path to data set in a variable\n",
    "data_file = \"Resources/budget_data.csv\""
   ]
  },
  {
   "cell_type": "code",
   "execution_count": 86,
   "metadata": {},
   "outputs": [],
   "source": [
    "# Use Pandas to read data\n",
    "data_file_df = pd.read_csv(data_file)"
   ]
  },
  {
   "cell_type": "code",
   "execution_count": 87,
   "metadata": {},
   "outputs": [
    {
     "name": "stdout",
     "output_type": "stream",
     "text": [
      "Financial Analysis\n",
      "---------------------------\n"
     ]
    }
   ],
   "source": [
    "# formatting prefrences\n",
    "print('Financial Analysis')\n",
    "print('---------------------------')"
   ]
  },
  {
   "cell_type": "code",
   "execution_count": 89,
   "metadata": {},
   "outputs": [
    {
     "name": "stdout",
     "output_type": "stream",
     "text": [
      "Total Months: 86\n"
     ]
    }
   ],
   "source": [
    "# Home work ask 1: The total number of months included in the dataset\n",
    "# The count method counts every entry in the series\n",
    "totalmonths = data_file_df[\"Date\"].count()\n",
    "print(f'Total Months: {totalmonths}')"
   ]
  },
  {
   "cell_type": "code",
   "execution_count": 90,
   "metadata": {},
   "outputs": [
    {
     "name": "stdout",
     "output_type": "stream",
     "text": [
      "Total: $38382578\n"
     ]
    }
   ],
   "source": [
    "# Home work ask 2: The net total amount of \"Profit/Losses\" over the entire period\n",
    "# The sum method adds every entry in the series\n",
    "totalpl = data_file_df[\"Profit/Losses\"].sum()\n",
    "print(f'Total: ${totalpl}')"
   ]
  },
  {
   "cell_type": "code",
   "execution_count": 91,
   "metadata": {},
   "outputs": [],
   "source": [
    "# Home work ask 3: The average of the changes in \"Profit/Losses\" over the entire period\n",
    "# in other words, I need to find the average of all month over month changes in \"Profit/Losses\""
   ]
  },
  {
   "cell_type": "code",
   "execution_count": 92,
   "metadata": {},
   "outputs": [],
   "source": [
    "# step 1: I need to get the month over month change so creat new column with \"Profit/Losses\" shifted up by 1 row\n",
    "previous_month = data_file_df[\"Profit/Losses\"].shift(1)\n",
    "data_file_df[\"Previous Month's P/L\"] = previous_month"
   ]
  },
  {
   "cell_type": "code",
   "execution_count": 93,
   "metadata": {},
   "outputs": [],
   "source": [
    "# step 2: subtract \"Profit/Losses\" from \"Following months P/L\"\n",
    "momchng = data_file_df[\"Profit/Losses\"] - data_file_df[\"Previous Month's P/L\"] \n",
    "data_file_df[\"Month over Month P/L Change\"] = momchng"
   ]
  },
  {
   "cell_type": "code",
   "execution_count": 75,
   "metadata": {},
   "outputs": [
    {
     "name": "stdout",
     "output_type": "stream",
     "text": [
      "Average Change: $-2315.1176470588234\n"
     ]
    }
   ],
   "source": [
    "#step 3: take the averave of the column \"Month over Month P/l Change\"\n",
    "# The mean method averages the series\n",
    "average = data_file_df[\"Month over Month P/L Change\"].mean()\n",
    "print(f'Average Change: ${average}')"
   ]
  },
  {
   "cell_type": "code",
   "execution_count": 100,
   "metadata": {
    "scrolled": true
   },
   "outputs": [
    {
     "name": "stdout",
     "output_type": "stream",
     "text": [
      "Greatest increase:\n",
      "        Date  Month over Month P/L Change\n",
      "25  Feb-2012                    1926159.0\n"
     ]
    }
   ],
   "source": [
    "#Homework ask 4: The greatest increase in profits (date and amount) over the entire period\n",
    "bigupall = data_file_df[data_file_df['Month over Month P/L Change'] == data_file_df['Month over Month P/L Change'].max()]\n",
    "bigup = bigupall.drop(columns =[\"Profit/Losses\", \"Previous Month's P/L\"])\n",
    "\n",
    "print('Greatest increase:')\n",
    "print(bigup)"
   ]
  },
  {
   "cell_type": "code",
   "execution_count": 101,
   "metadata": {
    "scrolled": true
   },
   "outputs": [
    {
     "name": "stdout",
     "output_type": "stream",
     "text": [
      "Greatest decrease:\n",
      "        Date  Month over Month P/L Change\n",
      "44  Sep-2013                   -2196167.0\n"
     ]
    }
   ],
   "source": [
    "# Homework ask 5: The greatest decrease in losses (date and amount) over the entire period\n",
    "bigdownall = data_file_df[data_file_df['Month over Month P/L Change'] == data_file_df['Month over Month P/L Change'].min()]\n",
    "bigdown = bigdownall.drop(columns =[\"Profit/Losses\", \"Previous Month's P/L\"])\n",
    "\n",
    "print('Greatest decrease:')\n",
    "print(bigdown)"
   ]
  },
  {
   "cell_type": "code",
   "execution_count": null,
   "metadata": {},
   "outputs": [],
   "source": []
  }
 ],
 "metadata": {
  "kernelspec": {
   "display_name": "Python [conda env:PythonData]",
   "language": "python",
   "name": "conda-env-PythonData-py"
  },
  "language_info": {
   "codemirror_mode": {
    "name": "ipython",
    "version": 3
   },
   "file_extension": ".py",
   "mimetype": "text/x-python",
   "name": "python",
   "nbconvert_exporter": "python",
   "pygments_lexer": "ipython3",
   "version": "3.6.10"
  }
 },
 "nbformat": 4,
 "nbformat_minor": 4
}
